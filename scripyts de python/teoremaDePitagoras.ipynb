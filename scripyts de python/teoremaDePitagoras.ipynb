{
 "cells": [
  {
   "attachments": {},
   "cell_type": "markdown",
   "metadata": {},
   "source": [
    "# Teorema de pitagoras\n",
    "En éste programa solicitaremos al usuario que ingrese dos catetos de un triangulo rectangulo y el mismo devolvera la hipotenusa\n"
   ]
  },
  {
   "cell_type": "code",
   "execution_count": 1,
   "metadata": {},
   "outputs": [
    {
     "name": "stdout",
     "output_type": "stream",
     "text": [
      "_Pitagoras: Bienvenido!!! Sabias que con dos lados de un triangulo rectangulo puedes calcular el lado faltante? te lo demuestro...\n",
      "Cateto Opuesto: 15.0\n",
      "Cateto Adyacente: 15.0\n"
     ]
    }
   ],
   "source": [
    "print(\"_Pitagoras: Bienvenido!!! Sabias que con dos lados de un triangulo rectangulo puedes calcular el lado faltante? te lo demuestro...\")\n",
    "\n",
    "catetoAdyacente = float(input(\"Ingresa el Cateto Adyacente en cm: \"))\n",
    "catetoOpuesto = float(input(\"Ingresa el Cateto Opuesto en cm: \"))\n",
    "\n",
    "print(\"Cateto Opuesto: \" + str(catetoOpuesto))\n",
    "print(\"Cateto Adyacente: \" + str(catetoAdyacente))"
   ]
  },
  {
   "cell_type": "markdown",
   "metadata": {},
   "source": [
    "Importando partes una libreria"
   ]
  },
  {
   "cell_type": "code",
   "execution_count": 2,
   "metadata": {},
   "outputs": [
    {
     "name": "stdout",
     "output_type": "stream",
     "text": [
      "La Hipotenusa para un CO de: 15.0 cm, y un CA de: 15.0 cm. Es de: 21.21 cm\n"
     ]
    }
   ],
   "source": [
    "from math import sqrt #importamos la funcion sqrt de la libreria math para calcular la raiz cuadrada\n",
    "from math import pow ##importamos la funcion pow de la libreria math para elevar al cuadrado\n",
    "\n",
    "Hipotenusa_1=sqrt(pow(catetoAdyacente,2)+pow(catetoOpuesto,2))\n",
    "\n",
    "print(\"La Hipotenusa para un CO de: \"+ str(catetoOpuesto) + \" cm, y un CA de: \" + str(catetoOpuesto) + \" cm. Es de: \"+ str(round(Hipotenusa_1,2)) + \" cm\")"
   ]
  },
  {
   "cell_type": "markdown",
   "metadata": {},
   "source": [
    "Sin librerias"
   ]
  },
  {
   "cell_type": "code",
   "execution_count": 3,
   "metadata": {},
   "outputs": [
    {
     "name": "stdout",
     "output_type": "stream",
     "text": [
      "La Hipotenusa para un CO de: 15.0 cm, y un CA de: 15.0 cm. Es de: 21.21 cm\n"
     ]
    }
   ],
   "source": [
    "#Otra forma es conociendo que una Raiz es una exponente fraccionario, por ende puedo elevar por 0.5 y obtener el mismo resultado que utilizar la raiz\n",
    "\n",
    "Hipotenusa_2=(catetoAdyacente*catetoAdyacente+catetoOpuesto*catetoOpuesto)**(1/2)\n",
    "\n",
    "print(\"La Hipotenusa para un CO de: \"+ str(catetoOpuesto) + \" cm, y un CA de: \" + str(catetoOpuesto) + \" cm. Es de: \"+ str(round(Hipotenusa_2,2)) + \" cm\")"
   ]
  },
  {
   "cell_type": "code",
   "execution_count": null,
   "metadata": {},
   "outputs": [],
   "source": []
  }
 ],
 "metadata": {
  "kernelspec": {
   "display_name": "Python 3",
   "language": "python",
   "name": "python3"
  },
  "language_info": {
   "codemirror_mode": {
    "name": "ipython",
    "version": 3
   },
   "file_extension": ".py",
   "mimetype": "text/x-python",
   "name": "python",
   "nbconvert_exporter": "python",
   "pygments_lexer": "ipython3",
   "version": "3.11.5"
  },
  "orig_nbformat": 4
 },
 "nbformat": 4,
 "nbformat_minor": 2
}
